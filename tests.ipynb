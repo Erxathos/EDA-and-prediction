{
 "cells": [
  {
   "cell_type": "markdown",
   "metadata": {},
   "source": [
    "## Test data_loader"
   ]
  },
  {
   "cell_type": "code",
   "execution_count": 30,
   "metadata": {},
   "outputs": [
    {
     "name": "stderr",
     "output_type": "stream",
     "text": [
      "----------------------------------------------------------------------\n",
      "Ran 1 test in 0.078s\n",
      "\n",
      "OK\n"
     ]
    },
    {
     "data": {
      "text/plain": [
       "<unittest.main.TestProgram at 0x9c4d9c8ac8>"
      ]
     },
     "execution_count": 30,
     "metadata": {},
     "output_type": "execute_result"
    }
   ],
   "source": [
    "import unittest\n",
    "from pandas import DataFrame\n",
    "import data_loader\n",
    "import pandas as pd\n",
    "\n",
    "class Test_data_loader(unittest.TestCase):\n",
    "        \n",
    "#     def test_load_data_shape(self):\n",
    "#         self.x, self.y, _, _ = data_loader.load_data()\n",
    "#         self.assertEqual(len(self.x.shape), 3)\n",
    "#         self.assertEqual(len(self.y.shape), 1)\n",
    "        \n",
    "    def test_df_to_supervised_input_output_shape(self):\n",
    "        self.df = pd.read_csv(\"Tests/test.csv\", encoding='utf-8-sig')\n",
    "        self.x, self.y = data_loader.df_to_supervised(self.df)\n",
    "        self.assertEqual(self.x.shape[0], self.y.shape[0])\n",
    "\n",
    "unittest.main(argv=[''], verbosity=0, exit=False)"
   ]
  }
 ],
 "metadata": {
  "kernelspec": {
   "display_name": "Python 3",
   "language": "python",
   "name": "python3"
  },
  "language_info": {
   "codemirror_mode": {
    "name": "ipython",
    "version": 3
   },
   "file_extension": ".py",
   "mimetype": "text/x-python",
   "name": "python",
   "nbconvert_exporter": "python",
   "pygments_lexer": "ipython3",
   "version": "3.6.2"
  }
 },
 "nbformat": 4,
 "nbformat_minor": 2
}
